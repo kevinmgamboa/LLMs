{
 "cells": [
  {
   "cell_type": "markdown",
   "metadata": {},
   "source": [
    "You can download the `requirements.txt` for this course from the workspace of this lab. `File --> Open...`"
   ]
  },
  {
   "cell_type": "markdown",
   "metadata": {},
   "source": [
    "# L2: Create Agents to Research and Write an Article\n",
    "\n",
    "In this lesson, you will be introduced to the foundational concepts of multi-agent systems and get an overview of the crewAI framework."
   ]
  },
  {
   "cell_type": "markdown",
   "metadata": {},
   "source": [
    "The libraries are already installed in the classroom. If you're running this notebook on your own machine, you can install the following:\n",
    "```Python\n",
    "!pip install crewai==0.28.8 crewai_tools==0.1.6 langchain_community==0.0.29\n",
    "```"
   ]
  },
  {
   "cell_type": "code",
   "execution_count": 1,
   "metadata": {
    "height": 64
   },
   "outputs": [],
   "source": [
    "# Warning control\n",
    "import warnings\n",
    "warnings.filterwarnings('ignore')"
   ]
  },
  {
   "cell_type": "markdown",
   "metadata": {},
   "source": [
    "- Import from the crewAI libray."
   ]
  },
  {
   "cell_type": "code",
   "execution_count": 2,
   "metadata": {
    "height": 30
   },
   "outputs": [],
   "source": [
    "from crewai import Agent, Task, Crew"
   ]
  },
  {
   "cell_type": "markdown",
   "metadata": {},
   "source": [
    "- As a LLM for your agents, you'll be using OpenAI's `gpt-3.5-turbo`.\n",
    "\n",
    "**Optional Note:** crewAI also allow other popular models to be used as a LLM for your Agents. You can see some of the examples at the [bottom of the notebook](#1)."
   ]
  },
  {
   "cell_type": "code",
   "execution_count": 3,
   "metadata": {
    "height": 98
   },
   "outputs": [],
   "source": [
    "import os\n",
    "from utils import get_openai_api_key\n",
    "\n",
    "openai_api_key = get_openai_api_key()\n",
    "os.environ[\"OPENAI_MODEL_NAME\"] = 'gpt-3.5-turbo'"
   ]
  },
  {
   "cell_type": "markdown",
   "metadata": {},
   "source": [
    "## Creating Agents\n",
    "\n",
    "- Define your Agents, and provide them a `role`, `goal` and `backstory`.\n",
    "- It has been seen that LLMs perform better when they are role playing."
   ]
  },
  {
   "cell_type": "markdown",
   "metadata": {},
   "source": [
    "### Agent: Planner\n",
    "\n",
    "**Note**: The benefit of using _multiple strings_ :\n",
    "```Python\n",
    "varname = \"line 1 of text\"\n",
    "          \"line 2 of text\"\n",
    "```\n",
    "\n",
    "versus the _triple quote docstring_:\n",
    "```Python\n",
    "varname = \"\"\"line 1 of text\n",
    "             line 2 of text\n",
    "          \"\"\"\n",
    "```\n",
    "is that it can avoid adding those whitespaces and newline characters, making it better formatted to be passed to the LLM."
   ]
  },
  {
   "cell_type": "code",
   "execution_count": 4,
   "metadata": {
    "height": 234
   },
   "outputs": [],
   "source": [
    "planner = Agent(\n",
    "    role=\"Content Planner\",\n",
    "    goal=\"Plan engaging and factually accurate content on {topic}\",\n",
    "    backstory=\"You're working on planning a blog article \"\n",
    "              \"about the topic: {topic}.\"\n",
    "              \"You collect information that helps the \"\n",
    "              \"audience learn something \"\n",
    "              \"and make informed decisions. \"\n",
    "              \"Your work is the basis for \"\n",
    "              \"the Content Writer to write an article on this topic.\",\n",
    "    allow_delegation=False,\n",
    "\tverbose=True\n",
    ")"
   ]
  },
  {
   "cell_type": "markdown",
   "metadata": {},
   "source": [
    "### Agent: Writer"
   ]
  },
  {
   "cell_type": "code",
   "execution_count": 5,
   "metadata": {
    "height": 370
   },
   "outputs": [],
   "source": [
    "writer = Agent(\n",
    "    role=\"Content Writer\",\n",
    "    goal=\"Write insightful and factually accurate \"\n",
    "         \"opinion piece about the topic: {topic}\",\n",
    "    backstory=\"You're working on a writing \"\n",
    "              \"a new opinion piece about the topic: {topic}. \"\n",
    "              \"You base your writing on the work of \"\n",
    "              \"the Content Planner, who provides an outline \"\n",
    "              \"and relevant context about the topic. \"\n",
    "              \"You follow the main objectives and \"\n",
    "              \"direction of the outline, \"\n",
    "              \"as provide by the Content Planner. \"\n",
    "              \"You also provide objective and impartial insights \"\n",
    "              \"and back them up with information \"\n",
    "              \"provide by the Content Planner. \"\n",
    "              \"You acknowledge in your opinion piece \"\n",
    "              \"when your statements are opinions \"\n",
    "              \"as opposed to objective statements.\",\n",
    "    allow_delegation=False,\n",
    "    verbose=True\n",
    ")"
   ]
  },
  {
   "cell_type": "markdown",
   "metadata": {},
   "source": [
    "### Agent: Editor"
   ]
  },
  {
   "cell_type": "code",
   "execution_count": 6,
   "metadata": {
    "height": 268
   },
   "outputs": [],
   "source": [
    "editor = Agent(\n",
    "    role=\"Editor\",\n",
    "    goal=\"Edit a given blog post to align with \"\n",
    "         \"the writing style of the organization. \",\n",
    "    backstory=\"You are an editor who receives a blog post \"\n",
    "              \"from the Content Writer. \"\n",
    "              \"Your goal is to review the blog post \"\n",
    "              \"to ensure that it follows journalistic best practices,\"\n",
    "              \"provides balanced viewpoints \"\n",
    "              \"when providing opinions or assertions, \"\n",
    "              \"and also avoids major controversial topics \"\n",
    "              \"or opinions when possible.\",\n",
    "    allow_delegation=False,\n",
    "    verbose=True\n",
    ")"
   ]
  },
  {
   "cell_type": "markdown",
   "metadata": {},
   "source": [
    "## Creating Tasks\n",
    "\n",
    "- Define your Tasks, and provide them a `description`, `expected_output` and `agent`."
   ]
  },
  {
   "cell_type": "markdown",
   "metadata": {},
   "source": [
    "### Task: Plan"
   ]
  },
  {
   "cell_type": "code",
   "execution_count": 7,
   "metadata": {
    "height": 268
   },
   "outputs": [],
   "source": [
    "plan = Task(\n",
    "    description=(\n",
    "        \"1. Prioritize the latest trends, key players, \"\n",
    "            \"and noteworthy news on {topic}.\\n\"\n",
    "        \"2. Identify the target audience, considering \"\n",
    "            \"their interests and pain points.\\n\"\n",
    "        \"3. Develop a detailed content outline including \"\n",
    "            \"an introduction, key points, and a call to action.\\n\"\n",
    "        \"4. Include SEO keywords and relevant data or sources.\"\n",
    "    ),\n",
    "    expected_output=\"A comprehensive content plan document \"\n",
    "        \"with an outline, audience analysis, \"\n",
    "        \"SEO keywords, and resources.\",\n",
    "    agent=planner,\n",
    ")"
   ]
  },
  {
   "cell_type": "markdown",
   "metadata": {},
   "source": [
    "### Task: Write"
   ]
  },
  {
   "cell_type": "code",
   "execution_count": 8,
   "metadata": {
    "height": 319
   },
   "outputs": [],
   "source": [
    "write = Task(\n",
    "    description=(\n",
    "        \"1. Use the content plan to craft a compelling \"\n",
    "            \"blog post on {topic}.\\n\"\n",
    "        \"2. Incorporate SEO keywords naturally.\\n\"\n",
    "\t\t\"3. Sections/Subtitles are properly named \"\n",
    "            \"in an engaging manner.\\n\"\n",
    "        \"4. Ensure the post is structured with an \"\n",
    "            \"engaging introduction, insightful body, \"\n",
    "            \"and a summarizing conclusion.\\n\"\n",
    "        \"5. Proofread for grammatical errors and \"\n",
    "            \"alignment with the brand's voice.\\n\"\n",
    "    ),\n",
    "    expected_output=\"A well-written blog post \"\n",
    "        \"in markdown format, ready for publication, \"\n",
    "        \"each section should have 2 or 3 paragraphs.\",\n",
    "    agent=writer,\n",
    ")"
   ]
  },
  {
   "cell_type": "markdown",
   "metadata": {},
   "source": [
    "### Task: Edit"
   ]
  },
  {
   "cell_type": "code",
   "execution_count": 9,
   "metadata": {
    "height": 166
   },
   "outputs": [],
   "source": [
    "edit = Task(\n",
    "    description=(\"Proofread the given blog post for \"\n",
    "                 \"grammatical errors and \"\n",
    "                 \"alignment with the brand's voice.\"),\n",
    "    expected_output=\"A well-written blog post in markdown format, \"\n",
    "                    \"ready for publication, \"\n",
    "                    \"each section should have 2 or 3 paragraphs.\",\n",
    "    agent=editor\n",
    ")"
   ]
  },
  {
   "cell_type": "markdown",
   "metadata": {},
   "source": [
    "## Creating the Crew\n",
    "\n",
    "- Create your crew of Agents\n",
    "- Pass the tasks to be performed by those agents.\n",
    "    - **Note**: *For this simple example*, the tasks will be performed sequentially (i.e they are dependent on each other), so the _order_ of the task in the list _matters_.\n",
    "- `verbose=2` allows you to see all the logs of the execution. "
   ]
  },
  {
   "cell_type": "code",
   "execution_count": 10,
   "metadata": {
    "height": 98
   },
   "outputs": [],
   "source": [
    "crew = Crew(\n",
    "    agents=[planner, writer, editor],\n",
    "    tasks=[plan, write, edit],\n",
    "    verbose=2\n",
    ")"
   ]
  },
  {
   "cell_type": "markdown",
   "metadata": {},
   "source": [
    "## Running the Crew"
   ]
  },
  {
   "cell_type": "markdown",
   "metadata": {},
   "source": [
    "**Note**: LLMs can provide different outputs for they same input, so what you get might be different than what you see in the video."
   ]
  },
  {
   "cell_type": "code",
   "execution_count": 11,
   "metadata": {
    "height": 30
   },
   "outputs": [
    {
     "name": "stdout",
     "output_type": "stream",
     "text": [
      "\u001b[1m\u001b[95m [DEBUG]: == Working Agent: Content Planner\u001b[00m\n",
      "\u001b[1m\u001b[95m [INFO]: == Starting Task: 1. Prioritize the latest trends, key players, and noteworthy news on Artificial Intelligence.\n",
      "2. Identify the target audience, considering their interests and pain points.\n",
      "3. Develop a detailed content outline including an introduction, key points, and a call to action.\n",
      "4. Include SEO keywords and relevant data or sources.\u001b[00m\n",
      "\n",
      "\n",
      "\u001b[1m> Entering new CrewAgentExecutor chain...\u001b[0m\n",
      "\u001b[32;1m\u001b[1;3mI now can give a great answer\n",
      "\n",
      "Final Answer:\n",
      "\n",
      "Content Plan: \n",
      "Title: The Future of Artificial Intelligence: Trends, Players, and News\n",
      "\n",
      "Introduction:\n",
      "- Brief overview of the current landscape of artificial intelligence\n",
      "- Importance of staying informed about the latest trends and key players in the industry\n",
      "\n",
      "Key Points:\n",
      "1. Latest Trends in Artificial Intelligence:\n",
      "- Breakthroughs in natural language processing and understanding\n",
      "- Advancements in computer vision and image recognition\n",
      "- Rise of AI-powered decision-making systems\n",
      "\n",
      "2. Key Players in the Artificial Intelligence Industry:\n",
      "- Google's DeepMind and its contributions to AI research\n",
      "- IBM Watson and its applications in healthcare and finance\n",
      "- Tesla's use of AI in autonomous driving technology\n",
      "\n",
      "3. Noteworthy News in Artificial Intelligence:\n",
      "- Recent developments in AI ethics and regulations\n",
      "- Impact of AI on job automation and workforce displacement\n",
      "- Collaboration between tech giants and startups in AI innovation\n",
      "\n",
      "Audience Analysis:\n",
      "- Target Audience: Tech-savvy individuals, industry professionals, business owners interested in AI applications\n",
      "- Interests: Staying updated on AI advancements, understanding the implications of AI on society and business\n",
      "- Pain Points: Confusion about AI terminology and concepts, uncertainty about how AI will impact their industry\n",
      "\n",
      "SEO Keywords: \n",
      "- Artificial Intelligence trends\n",
      "- Key players in AI\n",
      "- Latest news in AI\n",
      "- AI applications\n",
      "- Future of AI\n",
      "\n",
      "Resources:\n",
      "1. \"The AI Revolution: The Road to Superintelligence\" - Wait But Why\n",
      "2. \"Artificial Intelligence: A Guide for Thinking Humans\" - Melanie Mitchell\n",
      "3. \"Homo Deus: A Brief History of Tomorrow\" - Yuval Noah Harari\n",
      "\n",
      "Call to Action:\n",
      "- Encourage readers to subscribe to the blog for regular updates on AI trends and news\n",
      "- Prompt readers to share their thoughts and questions about artificial intelligence in the comments section\n",
      "\n",
      "By following this detailed content outline, the blog article on artificial intelligence will provide valuable insights and information to the target audience, helping them make informed decisions in the rapidly evolving AI landscape.\u001b[0m\n",
      "\n",
      "\u001b[1m> Finished chain.\u001b[0m\n",
      "\u001b[1m\u001b[92m [DEBUG]: == [Content Planner] Task output: Content Plan: \n",
      "Title: The Future of Artificial Intelligence: Trends, Players, and News\n",
      "\n",
      "Introduction:\n",
      "- Brief overview of the current landscape of artificial intelligence\n",
      "- Importance of staying informed about the latest trends and key players in the industry\n",
      "\n",
      "Key Points:\n",
      "1. Latest Trends in Artificial Intelligence:\n",
      "- Breakthroughs in natural language processing and understanding\n",
      "- Advancements in computer vision and image recognition\n",
      "- Rise of AI-powered decision-making systems\n",
      "\n",
      "2. Key Players in the Artificial Intelligence Industry:\n",
      "- Google's DeepMind and its contributions to AI research\n",
      "- IBM Watson and its applications in healthcare and finance\n",
      "- Tesla's use of AI in autonomous driving technology\n",
      "\n",
      "3. Noteworthy News in Artificial Intelligence:\n",
      "- Recent developments in AI ethics and regulations\n",
      "- Impact of AI on job automation and workforce displacement\n",
      "- Collaboration between tech giants and startups in AI innovation\n",
      "\n",
      "Audience Analysis:\n",
      "- Target Audience: Tech-savvy individuals, industry professionals, business owners interested in AI applications\n",
      "- Interests: Staying updated on AI advancements, understanding the implications of AI on society and business\n",
      "- Pain Points: Confusion about AI terminology and concepts, uncertainty about how AI will impact their industry\n",
      "\n",
      "SEO Keywords: \n",
      "- Artificial Intelligence trends\n",
      "- Key players in AI\n",
      "- Latest news in AI\n",
      "- AI applications\n",
      "- Future of AI\n",
      "\n",
      "Resources:\n",
      "1. \"The AI Revolution: The Road to Superintelligence\" - Wait But Why\n",
      "2. \"Artificial Intelligence: A Guide for Thinking Humans\" - Melanie Mitchell\n",
      "3. \"Homo Deus: A Brief History of Tomorrow\" - Yuval Noah Harari\n",
      "\n",
      "Call to Action:\n",
      "- Encourage readers to subscribe to the blog for regular updates on AI trends and news\n",
      "- Prompt readers to share their thoughts and questions about artificial intelligence in the comments section\n",
      "\n",
      "By following this detailed content outline, the blog article on artificial intelligence will provide valuable insights and information to the target audience, helping them make informed decisions in the rapidly evolving AI landscape.\n",
      "\n",
      "\u001b[00m\n",
      "\u001b[1m\u001b[95m [DEBUG]: == Working Agent: Content Writer\u001b[00m\n",
      "\u001b[1m\u001b[95m [INFO]: == Starting Task: 1. Use the content plan to craft a compelling blog post on Artificial Intelligence.\n",
      "2. Incorporate SEO keywords naturally.\n",
      "3. Sections/Subtitles are properly named in an engaging manner.\n",
      "4. Ensure the post is structured with an engaging introduction, insightful body, and a summarizing conclusion.\n",
      "5. Proofread for grammatical errors and alignment with the brand's voice.\n",
      "\u001b[00m\n",
      "\n",
      "\n",
      "\u001b[1m> Entering new CrewAgentExecutor chain...\u001b[0m\n",
      "\u001b[32;1m\u001b[1;3mI am ready to craft a compelling blog post on Artificial Intelligence by following the content plan provided.\n",
      "\n",
      "Final Answer:\n",
      "\n",
      "# The Future of Artificial Intelligence: Trends, Players, and News\n",
      "\n",
      "**Introduction:**\n",
      "\n",
      "Artificial Intelligence (AI) has become an integral part of our daily lives, from smart assistants on our phones to personalized recommendations on streaming platforms. Staying informed about the latest trends and key players in the industry is crucial to understanding the impact of AI on society and business. In this blog post, we will explore the current landscape of AI, highlighting the latest trends, key players, and noteworthy news shaping the future of artificial intelligence.\n",
      "\n",
      "**Latest Trends in Artificial Intelligence:**\n",
      "\n",
      "One of the most significant trends in AI is the breakthroughs in natural language processing and understanding. This has led to the development of chatbots and virtual assistants that can interact with users in a more human-like manner. Additionally, advancements in computer vision and image recognition have enabled AI systems to analyze and interpret visual data with a high level of accuracy. Another notable trend is the rise of AI-powered decision-making systems, which are being used in various industries to automate processes and improve efficiency.\n",
      "\n",
      "**Key Players in the Artificial Intelligence Industry:**\n",
      "\n",
      "Google's DeepMind has been at the forefront of AI research, making significant contributions to the field. Their work in reinforcement learning and neural networks has pushed the boundaries of what AI can achieve. IBM Watson is another key player in the industry, with applications in healthcare and finance. Their AI-powered solutions are revolutionizing how these sectors operate. Tesla's use of AI in autonomous driving technology is also worth mentioning, as they continue to push the boundaries of what is possible with AI in the automotive industry.\n",
      "\n",
      "**Noteworthy News in Artificial Intelligence:**\n",
      "\n",
      "Recent developments in AI ethics and regulations have sparked important discussions about the responsible use of AI technology. The impact of AI on job automation and workforce displacement is also a hot topic, with concerns about the future of work in an AI-driven world. Collaboration between tech giants and startups in AI innovation is driving the industry forward, with new and exciting developments on the horizon.\n",
      "\n",
      "**Conclusion:**\n",
      "\n",
      "As AI continues to advance at a rapid pace, staying informed about the latest trends and key players in the industry is essential. By following the developments in artificial intelligence, we can better understand the implications of AI on society and business. Subscribe to our blog for regular updates on AI trends and news, and share your thoughts and questions about artificial intelligence in the comments section. Let's continue to explore the future of artificial intelligence together.\u001b[0m\n",
      "\n",
      "\u001b[1m> Finished chain.\u001b[0m\n",
      "\u001b[1m\u001b[92m [DEBUG]: == [Content Writer] Task output: # The Future of Artificial Intelligence: Trends, Players, and News\n",
      "\n",
      "**Introduction:**\n",
      "\n",
      "Artificial Intelligence (AI) has become an integral part of our daily lives, from smart assistants on our phones to personalized recommendations on streaming platforms. Staying informed about the latest trends and key players in the industry is crucial to understanding the impact of AI on society and business. In this blog post, we will explore the current landscape of AI, highlighting the latest trends, key players, and noteworthy news shaping the future of artificial intelligence.\n",
      "\n",
      "**Latest Trends in Artificial Intelligence:**\n",
      "\n",
      "One of the most significant trends in AI is the breakthroughs in natural language processing and understanding. This has led to the development of chatbots and virtual assistants that can interact with users in a more human-like manner. Additionally, advancements in computer vision and image recognition have enabled AI systems to analyze and interpret visual data with a high level of accuracy. Another notable trend is the rise of AI-powered decision-making systems, which are being used in various industries to automate processes and improve efficiency.\n",
      "\n",
      "**Key Players in the Artificial Intelligence Industry:**\n",
      "\n",
      "Google's DeepMind has been at the forefront of AI research, making significant contributions to the field. Their work in reinforcement learning and neural networks has pushed the boundaries of what AI can achieve. IBM Watson is another key player in the industry, with applications in healthcare and finance. Their AI-powered solutions are revolutionizing how these sectors operate. Tesla's use of AI in autonomous driving technology is also worth mentioning, as they continue to push the boundaries of what is possible with AI in the automotive industry.\n",
      "\n",
      "**Noteworthy News in Artificial Intelligence:**\n",
      "\n",
      "Recent developments in AI ethics and regulations have sparked important discussions about the responsible use of AI technology. The impact of AI on job automation and workforce displacement is also a hot topic, with concerns about the future of work in an AI-driven world. Collaboration between tech giants and startups in AI innovation is driving the industry forward, with new and exciting developments on the horizon.\n",
      "\n",
      "**Conclusion:**\n",
      "\n",
      "As AI continues to advance at a rapid pace, staying informed about the latest trends and key players in the industry is essential. By following the developments in artificial intelligence, we can better understand the implications of AI on society and business. Subscribe to our blog for regular updates on AI trends and news, and share your thoughts and questions about artificial intelligence in the comments section. Let's continue to explore the future of artificial intelligence together.\n",
      "\n",
      "\u001b[00m\n",
      "\u001b[1m\u001b[95m [DEBUG]: == Working Agent: Editor\u001b[00m\n",
      "\u001b[1m\u001b[95m [INFO]: == Starting Task: Proofread the given blog post for grammatical errors and alignment with the brand's voice.\u001b[00m\n",
      "\n",
      "\n",
      "\u001b[1m> Entering new CrewAgentExecutor chain...\u001b[0m\n"
     ]
    },
    {
     "name": "stdout",
     "output_type": "stream",
     "text": [
      "\u001b[32;1m\u001b[1;3mI now can give a great answer\n",
      "\n",
      "Final Answer:\n",
      "\n",
      "# The Future of Artificial Intelligence: Trends, Players, and News\n",
      "\n",
      "**Introduction:**\n",
      "\n",
      "Artificial Intelligence (AI) has seamlessly integrated into our daily routines, from the convenience of smart assistants on our smartphones to the tailored recommendations on streaming services. It is imperative to stay abreast of the latest trends and prominent figures in the industry to grasp the profound impact of AI on both society and business. This blog post delves into the current landscape of AI, spotlighting the prevailing trends, key players, and notable news that are shaping the future of artificial intelligence.\n",
      "\n",
      "**Latest Trends in Artificial Intelligence:**\n",
      "\n",
      "One of the most noteworthy trends in AI revolves around the breakthroughs in natural language processing and comprehension. This advancement has paved the way for the creation of chatbots and virtual assistants capable of engaging with users in a remarkably human-like manner. Furthermore, strides in computer vision and image recognition have empowered AI systems to analyze and interpret visual data with unparalleled precision. Another significant trend is the emergence of AI-powered decision-making systems that are streamlining processes and enhancing efficiency across various industries.\n",
      "\n",
      "**Key Players in the Artificial Intelligence Industry:**\n",
      "\n",
      "Google's DeepMind stands at the forefront of AI research, making substantial contributions to the field. Their pioneering work in reinforcement learning and neural networks has pushed the boundaries of AI capabilities. Similarly, IBM Watson is a pivotal player in the industry, particularly in sectors like healthcare and finance. Their AI-driven solutions are revolutionizing the operational landscape of these industries. Tesla's utilization of AI in autonomous driving technology is also commendable, as they continuously push the envelope of what is achievable with AI in the automotive sector.\n",
      "\n",
      "**Noteworthy News in Artificial Intelligence:**\n",
      "\n",
      "Recent developments in AI ethics and regulations have ignited crucial dialogues on the responsible application of AI technology. The impact of AI on job automation and workforce displacement remains a prominent concern, with discussions surrounding the future of work in an AI-centric world. Collaboration between tech behemoths and startups in AI innovation is propelling the industry forward, ushering in a wave of fresh and stimulating advancements on the horizon.\n",
      "\n",
      "**Conclusion:**\n",
      "\n",
      "With the rapid progression of AI, keeping abreast of the latest trends and key players in the industry is indispensable. By staying informed on the developments within artificial intelligence, we can gain a deeper understanding of its implications on society and business alike. Stay tuned to our blog for regular updates on AI trends and news, and feel free to share your insights and queries on artificial intelligence in the comments section. Let's embark on this journey of exploring the future of artificial intelligence together.\u001b[0m\n",
      "\n",
      "\u001b[1m> Finished chain.\u001b[0m\n",
      "\u001b[1m\u001b[92m [DEBUG]: == [Editor] Task output: # The Future of Artificial Intelligence: Trends, Players, and News\n",
      "\n",
      "**Introduction:**\n",
      "\n",
      "Artificial Intelligence (AI) has seamlessly integrated into our daily routines, from the convenience of smart assistants on our smartphones to the tailored recommendations on streaming services. It is imperative to stay abreast of the latest trends and prominent figures in the industry to grasp the profound impact of AI on both society and business. This blog post delves into the current landscape of AI, spotlighting the prevailing trends, key players, and notable news that are shaping the future of artificial intelligence.\n",
      "\n",
      "**Latest Trends in Artificial Intelligence:**\n",
      "\n",
      "One of the most noteworthy trends in AI revolves around the breakthroughs in natural language processing and comprehension. This advancement has paved the way for the creation of chatbots and virtual assistants capable of engaging with users in a remarkably human-like manner. Furthermore, strides in computer vision and image recognition have empowered AI systems to analyze and interpret visual data with unparalleled precision. Another significant trend is the emergence of AI-powered decision-making systems that are streamlining processes and enhancing efficiency across various industries.\n",
      "\n",
      "**Key Players in the Artificial Intelligence Industry:**\n",
      "\n",
      "Google's DeepMind stands at the forefront of AI research, making substantial contributions to the field. Their pioneering work in reinforcement learning and neural networks has pushed the boundaries of AI capabilities. Similarly, IBM Watson is a pivotal player in the industry, particularly in sectors like healthcare and finance. Their AI-driven solutions are revolutionizing the operational landscape of these industries. Tesla's utilization of AI in autonomous driving technology is also commendable, as they continuously push the envelope of what is achievable with AI in the automotive sector.\n",
      "\n",
      "**Noteworthy News in Artificial Intelligence:**\n",
      "\n",
      "Recent developments in AI ethics and regulations have ignited crucial dialogues on the responsible application of AI technology. The impact of AI on job automation and workforce displacement remains a prominent concern, with discussions surrounding the future of work in an AI-centric world. Collaboration between tech behemoths and startups in AI innovation is propelling the industry forward, ushering in a wave of fresh and stimulating advancements on the horizon.\n",
      "\n",
      "**Conclusion:**\n",
      "\n",
      "With the rapid progression of AI, keeping abreast of the latest trends and key players in the industry is indispensable. By staying informed on the developments within artificial intelligence, we can gain a deeper understanding of its implications on society and business alike. Stay tuned to our blog for regular updates on AI trends and news, and feel free to share your insights and queries on artificial intelligence in the comments section. Let's embark on this journey of exploring the future of artificial intelligence together.\n",
      "\n",
      "\u001b[00m\n"
     ]
    }
   ],
   "source": [
    "result = crew.kickoff(inputs={\"topic\": \"Artificial Intelligence\"})"
   ]
  },
  {
   "cell_type": "markdown",
   "metadata": {},
   "source": [
    "- Display the results of your execution as markdown in the notebook."
   ]
  },
  {
   "cell_type": "code",
   "execution_count": 12,
   "metadata": {
    "height": 47
   },
   "outputs": [
    {
     "data": {
      "text/markdown": [
       "# The Future of Artificial Intelligence: Trends, Players, and News\n",
       "\n",
       "**Introduction:**\n",
       "\n",
       "Artificial Intelligence (AI) has seamlessly integrated into our daily routines, from the convenience of smart assistants on our smartphones to the tailored recommendations on streaming services. It is imperative to stay abreast of the latest trends and prominent figures in the industry to grasp the profound impact of AI on both society and business. This blog post delves into the current landscape of AI, spotlighting the prevailing trends, key players, and notable news that are shaping the future of artificial intelligence.\n",
       "\n",
       "**Latest Trends in Artificial Intelligence:**\n",
       "\n",
       "One of the most noteworthy trends in AI revolves around the breakthroughs in natural language processing and comprehension. This advancement has paved the way for the creation of chatbots and virtual assistants capable of engaging with users in a remarkably human-like manner. Furthermore, strides in computer vision and image recognition have empowered AI systems to analyze and interpret visual data with unparalleled precision. Another significant trend is the emergence of AI-powered decision-making systems that are streamlining processes and enhancing efficiency across various industries.\n",
       "\n",
       "**Key Players in the Artificial Intelligence Industry:**\n",
       "\n",
       "Google's DeepMind stands at the forefront of AI research, making substantial contributions to the field. Their pioneering work in reinforcement learning and neural networks has pushed the boundaries of AI capabilities. Similarly, IBM Watson is a pivotal player in the industry, particularly in sectors like healthcare and finance. Their AI-driven solutions are revolutionizing the operational landscape of these industries. Tesla's utilization of AI in autonomous driving technology is also commendable, as they continuously push the envelope of what is achievable with AI in the automotive sector.\n",
       "\n",
       "**Noteworthy News in Artificial Intelligence:**\n",
       "\n",
       "Recent developments in AI ethics and regulations have ignited crucial dialogues on the responsible application of AI technology. The impact of AI on job automation and workforce displacement remains a prominent concern, with discussions surrounding the future of work in an AI-centric world. Collaboration between tech behemoths and startups in AI innovation is propelling the industry forward, ushering in a wave of fresh and stimulating advancements on the horizon.\n",
       "\n",
       "**Conclusion:**\n",
       "\n",
       "With the rapid progression of AI, keeping abreast of the latest trends and key players in the industry is indispensable. By staying informed on the developments within artificial intelligence, we can gain a deeper understanding of its implications on society and business alike. Stay tuned to our blog for regular updates on AI trends and news, and feel free to share your insights and queries on artificial intelligence in the comments section. Let's embark on this journey of exploring the future of artificial intelligence together."
      ],
      "text/plain": [
       "<IPython.core.display.Markdown object>"
      ]
     },
     "execution_count": 12,
     "metadata": {},
     "output_type": "execute_result"
    }
   ],
   "source": [
    "from IPython.display import Markdown\n",
    "Markdown(result)"
   ]
  },
  {
   "cell_type": "markdown",
   "metadata": {},
   "source": [
    "## Try it Yourself\n",
    "\n",
    "- Pass in a topic of your choice and see what the agents come up with!"
   ]
  },
  {
   "cell_type": "code",
   "execution_count": 13,
   "metadata": {
    "height": 64
   },
   "outputs": [
    {
     "name": "stdout",
     "output_type": "stream",
     "text": [
      "\u001b[1m\u001b[95m [DEBUG]: == Working Agent: Content Planner\u001b[00m\n",
      "\u001b[1m\u001b[95m [INFO]: == Starting Task: 1. Prioritize the latest trends, key players, and noteworthy news on How to holistically evaluate LLMs accuracy and reliability in patient facing apps.\n",
      "2. Identify the target audience, considering their interests and pain points.\n",
      "3. Develop a detailed content outline including an introduction, key points, and a call to action.\n",
      "4. Include SEO keywords and relevant data or sources.\u001b[00m\n",
      "\n",
      "\n",
      "\u001b[1m> Entering new CrewAgentExecutor chain...\u001b[0m\n",
      "\u001b[32;1m\u001b[1;3mI now can give a great answer\n",
      "\n",
      "Final Answer:\n",
      "\n",
      "Content Plan Document\n",
      "\n",
      "Title: How to holistically evaluate LLMs accuracy and reliability in patient facing apps\n",
      "\n",
      "Introduction:\n",
      "- Brief overview of the importance of accurately evaluating LLMs in patient facing apps\n",
      "- Explanation of the significance of reliability and accuracy in healthcare technology\n",
      "\n",
      "Key Points:\n",
      "1. Latest Trends:\n",
      "- Incorporation of machine learning models in healthcare technology\n",
      "- Emphasis on the need for accurate and reliable LLMs in patient facing apps\n",
      "- Advancements in technology for evaluating LLMs accuracy\n",
      "\n",
      "2. Key Players:\n",
      "- Leading healthcare technology companies investing in LLM development\n",
      "- Experts in the field of machine learning and healthcare technology\n",
      "- Regulatory bodies focusing on accuracy and reliability in patient facing apps\n",
      "\n",
      "3. Noteworthy News:\n",
      "- Recent case studies highlighting the impact of inaccurate LLMs on patient outcomes\n",
      "- Updates on regulations and guidelines for evaluating LLMs accuracy\n",
      "- Success stories of patient facing apps with reliable LLMs\n",
      "\n",
      "Target Audience:\n",
      "- Healthcare professionals, including doctors, nurses, and administrators\n",
      "- Developers and designers of patient facing apps\n",
      "- Patients and caregivers interested in using healthcare technology\n",
      "- Regulatory bodies and policymakers in the healthcare industry\n",
      "- Data scientists and machine learning experts\n",
      "\n",
      "Audience Interests and Pain Points:\n",
      "- Interest in using technology to improve patient care and outcomes\n",
      "- Concerns about the reliability and accuracy of LLMs in healthcare apps\n",
      "- Desire for clear guidelines on evaluating LLMs accuracy\n",
      "- Need for practical tips on implementing accurate LLMs in patient facing apps\n",
      "\n",
      "SEO Keywords:\n",
      "- LLM accuracy evaluation\n",
      "- Reliability assessment in patient apps\n",
      "- Healthcare technology trends\n",
      "- Machine learning in patient care\n",
      "- Evaluating LLMs in healthcare apps\n",
      "\n",
      "Resources:\n",
      "1. American Medical Association (AMA) guidelines on technology in healthcare\n",
      "2. Healthcare Information and Management Systems Society (HIMSS) reports on machine learning in patient care\n",
      "3. National Institute of Standards and Technology (NIST) research on evaluating LLMs accuracy\n",
      "4. Case studies from leading healthcare technology companies on successful implementation of accurate LLMs\n",
      "5. Academic research articles on machine learning and healthcare technology\n",
      "\n",
      "Call to Action:\n",
      "Encourage readers to stay informed about the latest trends and guidelines for evaluating LLMs accuracy in patient facing apps. Provide links to relevant resources and invite feedback and discussion on the topic. \n",
      "\n",
      "Overall, this content plan aims to provide a comprehensive guide on how to holistically evaluate LLMs accuracy and reliability in patient facing apps, catering to the interests and pain points of the target audience while incorporating relevant SEO keywords and resources for further exploration.\u001b[0m\n",
      "\n",
      "\u001b[1m> Finished chain.\u001b[0m\n",
      "\u001b[1m\u001b[92m [DEBUG]: == [Content Planner] Task output: Content Plan Document\n",
      "\n",
      "Title: How to holistically evaluate LLMs accuracy and reliability in patient facing apps\n",
      "\n",
      "Introduction:\n",
      "- Brief overview of the importance of accurately evaluating LLMs in patient facing apps\n",
      "- Explanation of the significance of reliability and accuracy in healthcare technology\n",
      "\n",
      "Key Points:\n",
      "1. Latest Trends:\n",
      "- Incorporation of machine learning models in healthcare technology\n",
      "- Emphasis on the need for accurate and reliable LLMs in patient facing apps\n",
      "- Advancements in technology for evaluating LLMs accuracy\n",
      "\n",
      "2. Key Players:\n",
      "- Leading healthcare technology companies investing in LLM development\n",
      "- Experts in the field of machine learning and healthcare technology\n",
      "- Regulatory bodies focusing on accuracy and reliability in patient facing apps\n",
      "\n",
      "3. Noteworthy News:\n",
      "- Recent case studies highlighting the impact of inaccurate LLMs on patient outcomes\n",
      "- Updates on regulations and guidelines for evaluating LLMs accuracy\n",
      "- Success stories of patient facing apps with reliable LLMs\n",
      "\n",
      "Target Audience:\n",
      "- Healthcare professionals, including doctors, nurses, and administrators\n",
      "- Developers and designers of patient facing apps\n",
      "- Patients and caregivers interested in using healthcare technology\n",
      "- Regulatory bodies and policymakers in the healthcare industry\n",
      "- Data scientists and machine learning experts\n",
      "\n",
      "Audience Interests and Pain Points:\n",
      "- Interest in using technology to improve patient care and outcomes\n",
      "- Concerns about the reliability and accuracy of LLMs in healthcare apps\n",
      "- Desire for clear guidelines on evaluating LLMs accuracy\n",
      "- Need for practical tips on implementing accurate LLMs in patient facing apps\n",
      "\n",
      "SEO Keywords:\n",
      "- LLM accuracy evaluation\n",
      "- Reliability assessment in patient apps\n",
      "- Healthcare technology trends\n",
      "- Machine learning in patient care\n",
      "- Evaluating LLMs in healthcare apps\n",
      "\n",
      "Resources:\n",
      "1. American Medical Association (AMA) guidelines on technology in healthcare\n",
      "2. Healthcare Information and Management Systems Society (HIMSS) reports on machine learning in patient care\n",
      "3. National Institute of Standards and Technology (NIST) research on evaluating LLMs accuracy\n",
      "4. Case studies from leading healthcare technology companies on successful implementation of accurate LLMs\n",
      "5. Academic research articles on machine learning and healthcare technology\n",
      "\n",
      "Call to Action:\n",
      "Encourage readers to stay informed about the latest trends and guidelines for evaluating LLMs accuracy in patient facing apps. Provide links to relevant resources and invite feedback and discussion on the topic. \n",
      "\n",
      "Overall, this content plan aims to provide a comprehensive guide on how to holistically evaluate LLMs accuracy and reliability in patient facing apps, catering to the interests and pain points of the target audience while incorporating relevant SEO keywords and resources for further exploration.\n",
      "\n",
      "\u001b[00m\n",
      "\u001b[1m\u001b[95m [DEBUG]: == Working Agent: Content Writer\u001b[00m\n",
      "\u001b[1m\u001b[95m [INFO]: == Starting Task: 1. Use the content plan to craft a compelling blog post on How to holistically evaluate LLMs accuracy and reliability in patient facing apps.\n",
      "2. Incorporate SEO keywords naturally.\n",
      "3. Sections/Subtitles are properly named in an engaging manner.\n",
      "4. Ensure the post is structured with an engaging introduction, insightful body, and a summarizing conclusion.\n",
      "5. Proofread for grammatical errors and alignment with the brand's voice.\n",
      "\u001b[00m\n",
      "\n",
      "\n",
      "\u001b[1m> Entering new CrewAgentExecutor chain...\u001b[0m\n",
      "\u001b[32;1m\u001b[1;3mI now can give a great answer.\n",
      "\n",
      "Final Answer:\n",
      "\n",
      "# How to holistically evaluate LLMs accuracy and reliability in patient facing apps\n",
      "\n",
      "## Introduction\n",
      "In the rapidly evolving landscape of healthcare technology, the integration of machine learning models (LLMs) in patient facing apps has become increasingly prevalent. The accurate and reliable performance of these LLMs is crucial in ensuring optimal patient care and outcomes. As the demand for healthcare technology continues to grow, it is imperative to have robust mechanisms in place to evaluate the accuracy and reliability of these models effectively.\n",
      "\n",
      "## Latest Trends\n",
      "The incorporation of machine learning models in healthcare technology represents a significant advancement in the field. The emphasis on the need for accurate and reliable LLMs in patient facing apps is driven by the desire to enhance the quality of patient care. With continuous advancements in technology for evaluating LLMs accuracy, there is a growing focus on developing more sophisticated tools and methodologies to assess their performance.\n",
      "\n",
      "## Key Players\n",
      "Leading healthcare technology companies are investing heavily in the development of LLMs to improve patient outcomes. Experts in the field of machine learning and healthcare technology are at the forefront of innovation, driving progress in evaluating the accuracy and reliability of these models. Regulatory bodies play a crucial role in ensuring that patient facing apps meet standards for accuracy and reliability, safeguarding the interests of both healthcare professionals and patients.\n",
      "\n",
      "## Noteworthy News\n",
      "Recent case studies have shed light on the significant impact of inaccurate LLMs on patient outcomes, highlighting the importance of rigorous evaluation processes. Updates on regulations and guidelines for evaluating LLMs accuracy provide valuable insights for developers and designers of patient facing apps. Success stories of patient facing apps with reliable LLMs serve as inspiration for the industry, showcasing the potential benefits of implementing accurate and reliable models.\n",
      "\n",
      "## Conclusion\n",
      "In conclusion, the evaluation of LLMs accuracy and reliability in patient facing apps is a critical aspect of healthcare technology that requires careful consideration. By staying informed about the latest trends and guidelines, healthcare professionals, developers, patients, and policymakers can work together to ensure the effective implementation of accurate LLMs. With a collaborative effort and a commitment to quality, the healthcare industry can harness the power of machine learning to improve patient care and outcomes.\n",
      "\n",
      "Don't forget to check out the resources provided by organizations such as the American Medical Association, Healthcare Information and Management Systems Society, and the National Institute of Standards and Technology for further insights into evaluating LLMs accuracy. Stay engaged in the conversation and continue to explore new possibilities in healthcare technology.\u001b[0m\n",
      "\n",
      "\u001b[1m> Finished chain.\u001b[0m\n",
      "\u001b[1m\u001b[92m [DEBUG]: == [Content Writer] Task output: # How to holistically evaluate LLMs accuracy and reliability in patient facing apps\n",
      "\n",
      "## Introduction\n",
      "In the rapidly evolving landscape of healthcare technology, the integration of machine learning models (LLMs) in patient facing apps has become increasingly prevalent. The accurate and reliable performance of these LLMs is crucial in ensuring optimal patient care and outcomes. As the demand for healthcare technology continues to grow, it is imperative to have robust mechanisms in place to evaluate the accuracy and reliability of these models effectively.\n",
      "\n",
      "## Latest Trends\n",
      "The incorporation of machine learning models in healthcare technology represents a significant advancement in the field. The emphasis on the need for accurate and reliable LLMs in patient facing apps is driven by the desire to enhance the quality of patient care. With continuous advancements in technology for evaluating LLMs accuracy, there is a growing focus on developing more sophisticated tools and methodologies to assess their performance.\n",
      "\n",
      "## Key Players\n",
      "Leading healthcare technology companies are investing heavily in the development of LLMs to improve patient outcomes. Experts in the field of machine learning and healthcare technology are at the forefront of innovation, driving progress in evaluating the accuracy and reliability of these models. Regulatory bodies play a crucial role in ensuring that patient facing apps meet standards for accuracy and reliability, safeguarding the interests of both healthcare professionals and patients.\n",
      "\n",
      "## Noteworthy News\n",
      "Recent case studies have shed light on the significant impact of inaccurate LLMs on patient outcomes, highlighting the importance of rigorous evaluation processes. Updates on regulations and guidelines for evaluating LLMs accuracy provide valuable insights for developers and designers of patient facing apps. Success stories of patient facing apps with reliable LLMs serve as inspiration for the industry, showcasing the potential benefits of implementing accurate and reliable models.\n",
      "\n",
      "## Conclusion\n",
      "In conclusion, the evaluation of LLMs accuracy and reliability in patient facing apps is a critical aspect of healthcare technology that requires careful consideration. By staying informed about the latest trends and guidelines, healthcare professionals, developers, patients, and policymakers can work together to ensure the effective implementation of accurate LLMs. With a collaborative effort and a commitment to quality, the healthcare industry can harness the power of machine learning to improve patient care and outcomes.\n",
      "\n",
      "Don't forget to check out the resources provided by organizations such as the American Medical Association, Healthcare Information and Management Systems Society, and the National Institute of Standards and Technology for further insights into evaluating LLMs accuracy. Stay engaged in the conversation and continue to explore new possibilities in healthcare technology.\n",
      "\n",
      "\u001b[00m\n",
      "\u001b[1m\u001b[95m [DEBUG]: == Working Agent: Editor\u001b[00m\n",
      "\u001b[1m\u001b[95m [INFO]: == Starting Task: Proofread the given blog post for grammatical errors and alignment with the brand's voice.\u001b[00m\n",
      "\n",
      "\n",
      "\u001b[1m> Entering new CrewAgentExecutor chain...\u001b[0m\n"
     ]
    },
    {
     "name": "stdout",
     "output_type": "stream",
     "text": [
      "\u001b[32;1m\u001b[1;3mI now can give a great answer\n",
      "\n",
      "Final Answer:\n",
      "# How to Holistically Evaluate LLMs Accuracy and Reliability in Patient-Facing Apps\n",
      "\n",
      "In the rapidly evolving landscape of healthcare technology, the integration of machine learning models (LLMs) in patient-facing apps has become increasingly prevalent. The accurate and reliable performance of these LLMs is crucial in ensuring optimal patient care and outcomes. As the demand for healthcare technology continues to grow, it is imperative to have robust mechanisms in place to evaluate the accuracy and reliability of these models effectively.\n",
      "\n",
      "The incorporation of machine learning models in healthcare technology represents a significant advancement in the field. The emphasis on the need for accurate and reliable LLMs in patient-facing apps is driven by the desire to enhance the quality of patient care. With continuous advancements in technology for evaluating LLMs accuracy, there is a growing focus on developing more sophisticated tools and methodologies to assess their performance.\n",
      "\n",
      "Leading healthcare technology companies are investing heavily in the development of LLMs to improve patient outcomes. Experts in the field of machine learning and healthcare technology are at the forefront of innovation, driving progress in evaluating the accuracy and reliability of these models. Regulatory bodies play a crucial role in ensuring that patient-facing apps meet standards for accuracy and reliability, safeguarding the interests of both healthcare professionals and patients.\n",
      "\n",
      "Recent case studies have shed light on the significant impact of inaccurate LLMs on patient outcomes, highlighting the importance of rigorous evaluation processes. Updates on regulations and guidelines for evaluating LLMs accuracy provide valuable insights for developers and designers of patient-facing apps. Success stories of patient-facing apps with reliable LLMs serve as inspiration for the industry, showcasing the potential benefits of implementing accurate and reliable models.\n",
      "\n",
      "In conclusion, the evaluation of LLMs accuracy and reliability in patient-facing apps is a critical aspect of healthcare technology that requires careful consideration. By staying informed about the latest trends and guidelines, healthcare professionals, developers, patients, and policymakers can work together to ensure the effective implementation of accurate LLMs. With a collaborative effort and a commitment to quality, the healthcare industry can harness the power of machine learning to improve patient care and outcomes.\n",
      "\n",
      "Don't forget to check out the resources provided by organizations such as the American Medical Association, Healthcare Information and Management Systems Society, and the National Institute of Standards and Technology for further insights into evaluating LLMs accuracy. Stay engaged in the conversation and continue to explore new possibilities in healthcare technology.\u001b[0m\n",
      "\n",
      "\u001b[1m> Finished chain.\u001b[0m\n",
      "\u001b[1m\u001b[92m [DEBUG]: == [Editor] Task output: # How to Holistically Evaluate LLMs Accuracy and Reliability in Patient-Facing Apps\n",
      "\n",
      "In the rapidly evolving landscape of healthcare technology, the integration of machine learning models (LLMs) in patient-facing apps has become increasingly prevalent. The accurate and reliable performance of these LLMs is crucial in ensuring optimal patient care and outcomes. As the demand for healthcare technology continues to grow, it is imperative to have robust mechanisms in place to evaluate the accuracy and reliability of these models effectively.\n",
      "\n",
      "The incorporation of machine learning models in healthcare technology represents a significant advancement in the field. The emphasis on the need for accurate and reliable LLMs in patient-facing apps is driven by the desire to enhance the quality of patient care. With continuous advancements in technology for evaluating LLMs accuracy, there is a growing focus on developing more sophisticated tools and methodologies to assess their performance.\n",
      "\n",
      "Leading healthcare technology companies are investing heavily in the development of LLMs to improve patient outcomes. Experts in the field of machine learning and healthcare technology are at the forefront of innovation, driving progress in evaluating the accuracy and reliability of these models. Regulatory bodies play a crucial role in ensuring that patient-facing apps meet standards for accuracy and reliability, safeguarding the interests of both healthcare professionals and patients.\n",
      "\n",
      "Recent case studies have shed light on the significant impact of inaccurate LLMs on patient outcomes, highlighting the importance of rigorous evaluation processes. Updates on regulations and guidelines for evaluating LLMs accuracy provide valuable insights for developers and designers of patient-facing apps. Success stories of patient-facing apps with reliable LLMs serve as inspiration for the industry, showcasing the potential benefits of implementing accurate and reliable models.\n",
      "\n",
      "In conclusion, the evaluation of LLMs accuracy and reliability in patient-facing apps is a critical aspect of healthcare technology that requires careful consideration. By staying informed about the latest trends and guidelines, healthcare professionals, developers, patients, and policymakers can work together to ensure the effective implementation of accurate LLMs. With a collaborative effort and a commitment to quality, the healthcare industry can harness the power of machine learning to improve patient care and outcomes.\n",
      "\n",
      "Don't forget to check out the resources provided by organizations such as the American Medical Association, Healthcare Information and Management Systems Society, and the National Institute of Standards and Technology for further insights into evaluating LLMs accuracy. Stay engaged in the conversation and continue to explore new possibilities in healthcare technology.\n",
      "\n",
      "\u001b[00m\n"
     ]
    }
   ],
   "source": [
    "topic = \"How to holistically evaluate LLMs accuracy and reliability in patient facing apps\"\n",
    "result = crew.kickoff(inputs={\"topic\": topic})"
   ]
  },
  {
   "cell_type": "code",
   "execution_count": 14,
   "metadata": {
    "height": 30
   },
   "outputs": [
    {
     "data": {
      "text/markdown": [
       "# How to Holistically Evaluate LLMs Accuracy and Reliability in Patient-Facing Apps\n",
       "\n",
       "In the rapidly evolving landscape of healthcare technology, the integration of machine learning models (LLMs) in patient-facing apps has become increasingly prevalent. The accurate and reliable performance of these LLMs is crucial in ensuring optimal patient care and outcomes. As the demand for healthcare technology continues to grow, it is imperative to have robust mechanisms in place to evaluate the accuracy and reliability of these models effectively.\n",
       "\n",
       "The incorporation of machine learning models in healthcare technology represents a significant advancement in the field. The emphasis on the need for accurate and reliable LLMs in patient-facing apps is driven by the desire to enhance the quality of patient care. With continuous advancements in technology for evaluating LLMs accuracy, there is a growing focus on developing more sophisticated tools and methodologies to assess their performance.\n",
       "\n",
       "Leading healthcare technology companies are investing heavily in the development of LLMs to improve patient outcomes. Experts in the field of machine learning and healthcare technology are at the forefront of innovation, driving progress in evaluating the accuracy and reliability of these models. Regulatory bodies play a crucial role in ensuring that patient-facing apps meet standards for accuracy and reliability, safeguarding the interests of both healthcare professionals and patients.\n",
       "\n",
       "Recent case studies have shed light on the significant impact of inaccurate LLMs on patient outcomes, highlighting the importance of rigorous evaluation processes. Updates on regulations and guidelines for evaluating LLMs accuracy provide valuable insights for developers and designers of patient-facing apps. Success stories of patient-facing apps with reliable LLMs serve as inspiration for the industry, showcasing the potential benefits of implementing accurate and reliable models.\n",
       "\n",
       "In conclusion, the evaluation of LLMs accuracy and reliability in patient-facing apps is a critical aspect of healthcare technology that requires careful consideration. By staying informed about the latest trends and guidelines, healthcare professionals, developers, patients, and policymakers can work together to ensure the effective implementation of accurate LLMs. With a collaborative effort and a commitment to quality, the healthcare industry can harness the power of machine learning to improve patient care and outcomes.\n",
       "\n",
       "Don't forget to check out the resources provided by organizations such as the American Medical Association, Healthcare Information and Management Systems Society, and the National Institute of Standards and Technology for further insights into evaluating LLMs accuracy. Stay engaged in the conversation and continue to explore new possibilities in healthcare technology."
      ],
      "text/plain": [
       "<IPython.core.display.Markdown object>"
      ]
     },
     "execution_count": 14,
     "metadata": {},
     "output_type": "execute_result"
    }
   ],
   "source": [
    "Markdown(result)"
   ]
  },
  {
   "cell_type": "markdown",
   "metadata": {},
   "source": [
    "<a name='1'></a>\n",
    " ## Other Popular Models as LLM for your Agents"
   ]
  },
  {
   "cell_type": "markdown",
   "metadata": {},
   "source": [
    "#### Hugging Face (HuggingFaceHub endpoint)\n",
    "\n",
    "```Python\n",
    "from langchain_community.llms import HuggingFaceHub\n",
    "\n",
    "llm = HuggingFaceHub(\n",
    "    repo_id=\"HuggingFaceH4/zephyr-7b-beta\",\n",
    "    huggingfacehub_api_token=\"<HF_TOKEN_HERE>\",\n",
    "    task=\"text-generation\",\n",
    ")\n",
    "\n",
    "### you will pass \"llm\" to your agent function\n",
    "```"
   ]
  },
  {
   "cell_type": "markdown",
   "metadata": {},
   "source": [
    "#### Mistral API\n",
    "\n",
    "```Python\n",
    "OPENAI_API_KEY=your-mistral-api-key\n",
    "OPENAI_API_BASE=https://api.mistral.ai/v1\n",
    "OPENAI_MODEL_NAME=\"mistral-small\"\n",
    "```"
   ]
  },
  {
   "cell_type": "markdown",
   "metadata": {},
   "source": [
    "#### Cohere\n",
    "\n",
    "```Python\n",
    "from langchain_community.chat_models import ChatCohere\n",
    "# Initialize language model\n",
    "os.environ[\"COHERE_API_KEY\"] = \"your-cohere-api-key\"\n",
    "llm = ChatCohere()\n",
    "\n",
    "### you will pass \"llm\" to your agent function\n",
    "```"
   ]
  },
  {
   "cell_type": "markdown",
   "metadata": {},
   "source": [
    "### For using Llama locally with Ollama and more, checkout the crewAI documentation on [Connecting to any LLM](https://docs.crewai.com/how-to/LLM-Connections/)."
   ]
  },
  {
   "cell_type": "code",
   "execution_count": null,
   "metadata": {
    "height": 30
   },
   "outputs": [],
   "source": []
  },
  {
   "cell_type": "code",
   "execution_count": null,
   "metadata": {
    "height": 30
   },
   "outputs": [],
   "source": []
  },
  {
   "cell_type": "code",
   "execution_count": null,
   "metadata": {
    "height": 30
   },
   "outputs": [],
   "source": []
  }
 ],
 "metadata": {
  "colab": {
   "gpuType": "T4",
   "provenance": []
  },
  "kernelspec": {
   "display_name": "Python 3 (ipykernel)",
   "language": "python",
   "name": "python3"
  },
  "language_info": {
   "codemirror_mode": {
    "name": "ipython",
    "version": 3
   },
   "file_extension": ".py",
   "mimetype": "text/x-python",
   "name": "python",
   "nbconvert_exporter": "python",
   "pygments_lexer": "ipython3",
   "version": "3.11.9"
  }
 },
 "nbformat": 4,
 "nbformat_minor": 4
}
