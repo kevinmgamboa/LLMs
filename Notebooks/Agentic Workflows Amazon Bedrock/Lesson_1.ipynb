{
 "cells": [
  {
   "cell_type": "markdown",
   "id": "d2a14d50-e547-4a6a-a1a5-e4c3d8a2d365",
   "metadata": {},
   "source": [
    "# Lesson 1: Your first agent with Amazon Bedrock"
   ]
  },
  {
   "cell_type": "markdown",
   "id": "c2af05f4-fd9f-4dab-b93a-701bd4aa915f",
   "metadata": {},
   "source": [
    "## Preparation \n",
    "<p style=\"background-color:#fff6ff; padding:15px; border-width:3px; border-color:#efe6ef; border-style:solid; border-radius:6px\"> 💻 &nbsp; <b>Access <code>requirements.txt</code> and <code>helper.py</code> and other files:</b> 1) click on the <em>\"File\"</em> option on the top menu of the notebook and then 2) click on <em>\"Open\"</em>. For more help, please see the <em>\"Appendix - Tips and Help\"</em> Lesson.</p>"
   ]
  },
  {
   "cell_type": "code",
   "execution_count": 1,
   "id": "2d2f9f93",
   "metadata": {
    "height": 166
   },
   "outputs": [
    {
     "name": "stdout",
     "output_type": "stream",
     "text": [
      "Resetting environment (if nessesary)\n",
      "Agent reset process completed.\n",
      "Lambda reset process completed.\n",
      "Guardrail reset process completed.\n",
      "Environment reset complete.\n"
     ]
    }
   ],
   "source": [
    "# Before you start, please run the following code to set up your environment.\n",
    "# This code will reset the environment (if needed) and prepare the resources for the lesson.\n",
    "# It does this by quickly running through all the code from the previous lessons.\n",
    "\n",
    "!sh ./ro_shared_data/reset.sh\n",
    "\n",
    "import os\n",
    "\n",
    "roleArn = os.environ['BEDROCKAGENTROLE']"
   ]
  },
  {
   "cell_type": "code",
   "execution_count": 4,
   "id": "353a5213",
   "metadata": {
    "height": 30
   },
   "outputs": [
    {
     "data": {
      "text/plain": [
       "'arn:aws:iam::471112550072:role/c135316a3428926l9021298t1w63742362-BedrockAgentRole-VLVDKKTfDVoo'"
      ]
     },
     "execution_count": 4,
     "metadata": {},
     "output_type": "execute_result"
    }
   ],
   "source": [
    "roleArn"
   ]
  },
  {
   "cell_type": "markdown",
   "id": "2f375ad5",
   "metadata": {},
   "source": [
    "## Start of the lesson"
   ]
  },
  {
   "cell_type": "code",
   "execution_count": 2,
   "id": "b4c0d8f2",
   "metadata": {
    "height": 30
   },
   "outputs": [],
   "source": [
    "import boto3"
   ]
  },
  {
   "cell_type": "code",
   "execution_count": 3,
   "id": "caeca35a",
   "metadata": {
    "height": 64
   },
   "outputs": [],
   "source": [
    "bedrock_agent = boto3.client(\n",
    "    service_name='bedrock-agent', \n",
    "    region_name='us-west-2')"
   ]
  },
  {
   "cell_type": "code",
   "execution_count": 5,
   "id": "337f1e4e",
   "metadata": {
    "height": 115
   },
   "outputs": [],
   "source": [
    "create_agent_response = bedrock_agent.create_agent(\n",
    "    agentName='mugs-customer-support-agent',\n",
    "    foundationModel='anthropic.claude-3-haiku-20240307-v1:0',\n",
    "    instruction=\"\"\"You are an advanced AI agent acting as a front line customer support agent.\"\"\",\n",
    "    agentResourceRoleArn=roleArn\n",
    ")"
   ]
  },
  {
   "cell_type": "code",
   "execution_count": 6,
   "id": "e55f7771",
   "metadata": {
    "height": 30
   },
   "outputs": [
    {
     "data": {
      "text/plain": [
       "{'ResponseMetadata': {'RequestId': '5b4faa97-7508-4a43-ba56-9d71acb1ad31',\n",
       "  'HTTPStatusCode': 202,\n",
       "  'HTTPHeaders': {'date': 'Thu, 13 Feb 2025 11:02:47 GMT',\n",
       "   'content-type': 'application/json',\n",
       "   'content-length': '624',\n",
       "   'connection': 'keep-alive',\n",
       "   'x-amzn-requestid': '5b4faa97-7508-4a43-ba56-9d71acb1ad31',\n",
       "   'x-amz-apigw-id': 'F62lwH4aPHcEExA=',\n",
       "   'x-amzn-trace-id': 'Root=1-67add157-738b681c2a7ea63a53bd66f3'},\n",
       "  'RetryAttempts': 0},\n",
       " 'agent': {'agentArn': 'arn:aws:bedrock:us-west-2:471112550072:agent/YPWQQU8CYB',\n",
       "  'agentId': 'YPWQQU8CYB',\n",
       "  'agentName': 'mugs-customer-support-agent',\n",
       "  'agentResourceRoleArn': 'arn:aws:iam::471112550072:role/c135316a3428926l9021298t1w63742362-BedrockAgentRole-VLVDKKTfDVoo',\n",
       "  'agentStatus': 'CREATING',\n",
       "  'createdAt': datetime.datetime(2025, 2, 13, 11, 2, 47, 752424, tzinfo=tzlocal()),\n",
       "  'foundationModel': 'anthropic.claude-3-haiku-20240307-v1:0',\n",
       "  'idleSessionTTLInSeconds': 600,\n",
       "  'instruction': 'You are an advanced AI agent acting as a front line customer support agent.',\n",
       "  'updatedAt': datetime.datetime(2025, 2, 13, 11, 2, 47, 752424, tzinfo=tzlocal())}}"
      ]
     },
     "execution_count": 6,
     "metadata": {},
     "output_type": "execute_result"
    }
   ],
   "source": [
    "create_agent_response"
   ]
  },
  {
   "cell_type": "code",
   "execution_count": 7,
   "id": "b98f87f9",
   "metadata": {
    "height": 30
   },
   "outputs": [],
   "source": [
    "agentId = create_agent_response['agent']['agentId']"
   ]
  },
  {
   "cell_type": "code",
   "execution_count": 8,
   "id": "b02f891d",
   "metadata": {
    "height": 30
   },
   "outputs": [],
   "source": [
    "from helper import *"
   ]
  },
  {
   "cell_type": "code",
   "execution_count": 9,
   "id": "c9ccf112",
   "metadata": {
    "height": 81
   },
   "outputs": [
    {
     "name": "stdout",
     "output_type": "stream",
     "text": [
      "Waiting for agent status of 'NOT_PREPARED'...\n",
      "Agent status: NOT_PREPARED\n",
      "Agent reached 'NOT_PREPARED' status.\n"
     ]
    }
   ],
   "source": [
    "wait_for_agent_status(\n",
    "    agentId=agentId, \n",
    "    targetStatus='NOT_PREPARED'\n",
    ")"
   ]
  },
  {
   "cell_type": "code",
   "execution_count": 12,
   "id": "b0b58712",
   "metadata": {
    "height": 81
   },
   "outputs": [
    {
     "data": {
      "text/plain": [
       "{'ResponseMetadata': {'RequestId': 'a13dc0e4-8ee0-43be-9a8b-02ca5b836e03',\n",
       "  'HTTPStatusCode': 202,\n",
       "  'HTTPHeaders': {'date': 'Thu, 13 Feb 2025 11:07:44 GMT',\n",
       "   'content-type': 'application/json',\n",
       "   'content-length': '119',\n",
       "   'connection': 'keep-alive',\n",
       "   'x-amzn-requestid': 'a13dc0e4-8ee0-43be-9a8b-02ca5b836e03',\n",
       "   'x-amz-apigw-id': 'F63UKGRmvHcEFjA=',\n",
       "   'x-amzn-trace-id': 'Root=1-67add280-4f70687337fae29806b4a791'},\n",
       "  'RetryAttempts': 0},\n",
       " 'agentId': 'YPWQQU8CYB',\n",
       " 'agentStatus': 'PREPARING',\n",
       " 'agentVersion': 'DRAFT',\n",
       " 'preparedAt': datetime.datetime(2025, 2, 13, 11, 7, 44, 927322, tzinfo=tzlocal())}"
      ]
     },
     "execution_count": 12,
     "metadata": {},
     "output_type": "execute_result"
    }
   ],
   "source": [
    "# prepares the agent\n",
    "bedrock_agent.prepare_agent(\n",
    "    agentId=agentId\n",
    ")"
   ]
  },
  {
   "cell_type": "code",
   "execution_count": 11,
   "id": "189180bd",
   "metadata": {
    "height": 81
   },
   "outputs": [
    {
     "name": "stdout",
     "output_type": "stream",
     "text": [
      "Waiting for agent status of 'PREPARED'...\n",
      "Agent status: PREPARED\n",
      "Agent reached 'PREPARED' status.\n"
     ]
    }
   ],
   "source": [
    "wait_for_agent_status(\n",
    "    agentId=agentId, \n",
    "    targetStatus='PREPARED'\n",
    ")"
   ]
  },
  {
   "cell_type": "code",
   "execution_count": 14,
   "id": "177fdca8",
   "metadata": {
    "height": 251
   },
   "outputs": [
    {
     "ename": "ConflictException",
     "evalue": "An error occurred (ConflictException) when calling the CreateAgentAlias operation: Could not perform Create operation, since the MyAgentAlias (id: MHRQYHCH0R) with the same name MyAgentAlias already exists",
     "output_type": "error",
     "traceback": [
      "\u001b[0;31m---------------------------------------------------------------------------\u001b[0m",
      "\u001b[0;31mConflictException\u001b[0m                         Traceback (most recent call last)",
      "Cell \u001b[0;32mIn[14], line 2\u001b[0m\n\u001b[1;32m      1\u001b[0m \u001b[38;5;66;03m# creates an alias to be able to call the agent\u001b[39;00m\n\u001b[0;32m----> 2\u001b[0m create_agent_alias_response \u001b[38;5;241m=\u001b[39m \u001b[43mbedrock_agent\u001b[49m\u001b[38;5;241;43m.\u001b[39;49m\u001b[43mcreate_agent_alias\u001b[49m\u001b[43m(\u001b[49m\n\u001b[1;32m      3\u001b[0m \u001b[43m    \u001b[49m\u001b[43magentId\u001b[49m\u001b[38;5;241;43m=\u001b[39;49m\u001b[43magentId\u001b[49m\u001b[43m,\u001b[49m\n\u001b[1;32m      4\u001b[0m \u001b[43m    \u001b[49m\u001b[43magentAliasName\u001b[49m\u001b[38;5;241;43m=\u001b[39;49m\u001b[38;5;124;43m'\u001b[39;49m\u001b[38;5;124;43mMyAgentAlias\u001b[39;49m\u001b[38;5;124;43m'\u001b[39;49m\u001b[43m,\u001b[49m\n\u001b[1;32m      5\u001b[0m \u001b[43m)\u001b[49m\n\u001b[1;32m      7\u001b[0m agentAliasId \u001b[38;5;241m=\u001b[39m create_agent_alias_response[\u001b[38;5;124m'\u001b[39m\u001b[38;5;124magentAlias\u001b[39m\u001b[38;5;124m'\u001b[39m][\u001b[38;5;124m'\u001b[39m\u001b[38;5;124magentAliasId\u001b[39m\u001b[38;5;124m'\u001b[39m]\n\u001b[1;32m      9\u001b[0m wait_for_agent_alias_status(\n\u001b[1;32m     10\u001b[0m     agentId\u001b[38;5;241m=\u001b[39magentId,\n\u001b[1;32m     11\u001b[0m     agentAliasId\u001b[38;5;241m=\u001b[39magentAliasId,\n\u001b[1;32m     12\u001b[0m     targetStatus\u001b[38;5;241m=\u001b[39m\u001b[38;5;124m'\u001b[39m\u001b[38;5;124mPREPARED\u001b[39m\u001b[38;5;124m'\u001b[39m\n\u001b[1;32m     13\u001b[0m )\n",
      "File \u001b[0;32m/usr/local/lib/python3.11/site-packages/botocore/client.py:569\u001b[0m, in \u001b[0;36mClientCreator._create_api_method.<locals>._api_call\u001b[0;34m(self, *args, **kwargs)\u001b[0m\n\u001b[1;32m    565\u001b[0m     \u001b[38;5;28;01mraise\u001b[39;00m \u001b[38;5;167;01mTypeError\u001b[39;00m(\n\u001b[1;32m    566\u001b[0m         \u001b[38;5;124mf\u001b[39m\u001b[38;5;124m\"\u001b[39m\u001b[38;5;132;01m{\u001b[39;00mpy_operation_name\u001b[38;5;132;01m}\u001b[39;00m\u001b[38;5;124m() only accepts keyword arguments.\u001b[39m\u001b[38;5;124m\"\u001b[39m\n\u001b[1;32m    567\u001b[0m     )\n\u001b[1;32m    568\u001b[0m \u001b[38;5;66;03m# The \"self\" in this scope is referring to the BaseClient.\u001b[39;00m\n\u001b[0;32m--> 569\u001b[0m \u001b[38;5;28;01mreturn\u001b[39;00m \u001b[38;5;28;43mself\u001b[39;49m\u001b[38;5;241;43m.\u001b[39;49m\u001b[43m_make_api_call\u001b[49m\u001b[43m(\u001b[49m\u001b[43moperation_name\u001b[49m\u001b[43m,\u001b[49m\u001b[43m \u001b[49m\u001b[43mkwargs\u001b[49m\u001b[43m)\u001b[49m\n",
      "File \u001b[0;32m/usr/local/lib/python3.11/site-packages/botocore/client.py:1023\u001b[0m, in \u001b[0;36mBaseClient._make_api_call\u001b[0;34m(self, operation_name, api_params)\u001b[0m\n\u001b[1;32m   1019\u001b[0m     error_code \u001b[38;5;241m=\u001b[39m error_info\u001b[38;5;241m.\u001b[39mget(\u001b[38;5;124m\"\u001b[39m\u001b[38;5;124mQueryErrorCode\u001b[39m\u001b[38;5;124m\"\u001b[39m) \u001b[38;5;129;01mor\u001b[39;00m error_info\u001b[38;5;241m.\u001b[39mget(\n\u001b[1;32m   1020\u001b[0m         \u001b[38;5;124m\"\u001b[39m\u001b[38;5;124mCode\u001b[39m\u001b[38;5;124m\"\u001b[39m\n\u001b[1;32m   1021\u001b[0m     )\n\u001b[1;32m   1022\u001b[0m     error_class \u001b[38;5;241m=\u001b[39m \u001b[38;5;28mself\u001b[39m\u001b[38;5;241m.\u001b[39mexceptions\u001b[38;5;241m.\u001b[39mfrom_code(error_code)\n\u001b[0;32m-> 1023\u001b[0m     \u001b[38;5;28;01mraise\u001b[39;00m error_class(parsed_response, operation_name)\n\u001b[1;32m   1024\u001b[0m \u001b[38;5;28;01melse\u001b[39;00m:\n\u001b[1;32m   1025\u001b[0m     \u001b[38;5;28;01mreturn\u001b[39;00m parsed_response\n",
      "\u001b[0;31mConflictException\u001b[0m: An error occurred (ConflictException) when calling the CreateAgentAlias operation: Could not perform Create operation, since the MyAgentAlias (id: MHRQYHCH0R) with the same name MyAgentAlias already exists"
     ]
    }
   ],
   "source": [
    "# creates an alias to be able to call the agent\n",
    "create_agent_alias_response = bedrock_agent.create_agent_alias(\n",
    "    agentId=agentId,\n",
    "    agentAliasName='MyAgentAlias',\n",
    ")\n",
    "\n",
    "agentAliasId = create_agent_alias_response['agentAlias']['agentAliasId']\n",
    "\n",
    "wait_for_agent_alias_status(\n",
    "    agentId=agentId,\n",
    "    agentAliasId=agentAliasId,\n",
    "    targetStatus='PREPARED'\n",
    ")\n",
    "# once the prepared alias is created we can start using the agent in a new client"
   ]
  },
  {
   "cell_type": "code",
   "execution_count": 15,
   "id": "000e1256",
   "metadata": {
    "height": 47
   },
   "outputs": [],
   "source": [
    "# creates new client to interact with running agent\n",
    "bedrock_agent_runtime = boto3.client(service_name='bedrock-agent-runtime', region_name='us-west-2')"
   ]
  },
  {
   "cell_type": "code",
   "execution_count": 16,
   "id": "f41c3669",
   "metadata": {
    "height": 47
   },
   "outputs": [],
   "source": [
    "import uuid\n",
    "# by creating a session id we can maintain and the conversation history will be stored inside the agent insight the service"
   ]
  },
  {
   "cell_type": "code",
   "execution_count": 20,
   "id": "3b3ca486",
   "metadata": {
    "height": 217
   },
   "outputs": [],
   "source": [
    "message = \"Hello, I bought a mug from your store yesterday, and it broke. I want to return it.\"\n",
    "\n",
    "sessionId = str(uuid.uuid4())\n",
    "\n",
    "invoke_agent_response = bedrock_agent_runtime.invoke_agent(\n",
    "    agentId=agentId,\n",
    "    agentAliasId=agentAliasId,\n",
    "    inputText=message,\n",
    "    sessionId=sessionId,\n",
    "    endSession=False,\n",
    "    enableTrace=True, # help us understand model response\n",
    ")"
   ]
  },
  {
   "cell_type": "code",
   "execution_count": 21,
   "id": "25953b09",
   "metadata": {
    "height": 30
   },
   "outputs": [],
   "source": [
    "event_stream = invoke_agent_response[\"completion\"]"
   ]
  },
  {
   "cell_type": "code",
   "execution_count": 22,
   "id": "36116ce1",
   "metadata": {
    "height": 47
   },
   "outputs": [
    {
     "name": "stdout",
     "output_type": "stream",
     "text": [
      "{'chunk': {'bytes': b'1. Gather the mug and your proof of purchase (such as the receipt).\\n2. Contact our customer service team at [phone number] or [email] to initiate the return process.\\n3. Provide the customer service representative with the details of your purchase and the reason for the return (the mug being broken).\\n4. Follow any additional instructions from the customer service team to complete the return and receive your refund.\\n\\nPlease let me know if you have any other questions!'}}\n"
     ]
    }
   ],
   "source": [
    "for event in event_stream:\n",
    "    print(event)"
   ]
  },
  {
   "cell_type": "code",
   "execution_count": 23,
   "id": "4678e87b",
   "metadata": {
    "height": 64
   },
   "outputs": [],
   "source": [
    "message = \"Hello, I bought a mug from your store yesterday, and it broke. I want to return it.\"\n",
    "\n",
    "sessionId = str(uuid.uuid4())"
   ]
  },
  {
   "cell_type": "code",
   "execution_count": 24,
   "id": "fd9cbdfe",
   "metadata": {
    "height": 132
   },
   "outputs": [
    {
     "name": "stdout",
     "output_type": "stream",
     "text": [
      "User: Hello, I bought a mug from your store yesterday, and it broke. I want\n",
      "to return it.\n",
      "\n",
      "Agent: \n",
      "Agent's thought process:\n",
      "  Okay, let's go through the steps to handle this return request:\n",
      "\n",
      "Agent's thought process:\n",
      "  Apologies, let me try that again in the correct format:\n",
      "\n",
      "Agent's thought process:\n",
      "  I apologize, it seems there was an issue with my previous function\n",
      "  call. Let me try a different approach to get the return policy\n",
      "  information.\n",
      "\n",
      "Agent's thought process:\n",
      "  I apologize, it seems there was an issue with my previous function\n",
      "  call. Let me try a different approach to get the return policy\n",
      "  information.\n",
      "\n",
      "Observation:\n",
      "  Type: FINISH\n",
      "\n",
      "Final response:\n",
      "  To return the broken mug, please bring the mug and your original\n",
      "  purchase receipt to our store within 30 days of the purchase date.\n",
      "  We will be happy to provide a full refund for the mug. Please let me\n",
      "  know if you have any other questions!\n",
      "\n",
      "\n",
      "Session ID: f903d52c-bb8f-4390-ae00-3000cbd231d9\n"
     ]
    }
   ],
   "source": [
    "invoke_agent_and_print(\n",
    "    agentAliasId=agentAliasId,\n",
    "    agentId=agentId,\n",
    "    sessionId=sessionId,\n",
    "    inputText=message,\n",
    "    enableTrace=True,\n",
    ")"
   ]
  },
  {
   "cell_type": "code",
   "execution_count": null,
   "id": "70a5ed6d",
   "metadata": {
    "height": 30
   },
   "outputs": [],
   "source": []
  }
 ],
 "metadata": {
  "kernelspec": {
   "display_name": "Python 3 (ipykernel)",
   "language": "python",
   "name": "python3"
  },
  "language_info": {
   "codemirror_mode": {
    "name": "ipython",
    "version": 3
   },
   "file_extension": ".py",
   "mimetype": "text/x-python",
   "name": "python",
   "nbconvert_exporter": "python",
   "pygments_lexer": "ipython3",
   "version": "3.11.9"
  }
 },
 "nbformat": 4,
 "nbformat_minor": 5
}
